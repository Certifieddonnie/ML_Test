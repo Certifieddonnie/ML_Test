{
  "nbformat": 4,
  "nbformat_minor": 0,
  "metadata": {
    "colab": {
      "provenance": [],
      "authorship_tag": "ABX9TyNVqXWkoJLzDYm6AmUdnrjN",
      "include_colab_link": true
    },
    "kernelspec": {
      "name": "python3",
      "display_name": "Python 3"
    },
    "language_info": {
      "name": "python"
    }
  },
  "cells": [
    {
      "cell_type": "markdown",
      "metadata": {
        "id": "view-in-github",
        "colab_type": "text"
      },
      "source": [
        "<a href=\"https://colab.research.google.com/github/Certifieddonnie/ML_Test/blob/main/test_files.ipynb\" target=\"_parent\"><img src=\"https://colab.research.google.com/assets/colab-badge.svg\" alt=\"Open In Colab\"/></a>"
      ]
    },
    {
      "cell_type": "code",
      "execution_count": 1,
      "metadata": {
        "colab": {
          "base_uri": "https://localhost:8080/"
        },
        "id": "2c5y_TXjgkqx",
        "outputId": "0b3aa192-27e3-4381-8eda-c7378c3f5c83"
      },
      "outputs": [
        {
          "output_type": "stream",
          "name": "stdout",
          "text": [
            "Colab only includes TensorFlow 2.x; %tensorflow_version has no effect.\n"
          ]
        }
      ],
      "source": [
        "%tensorflow_version 2.x"
      ]
    },
    {
      "cell_type": "code",
      "source": [
        "import tensorflow as tf\n",
        "print(tf.version)\n",
        "\n",
        "# Creating Tensors\n",
        "tense_1 = tf.Variable(\"Hello World\", tf.string)\n",
        "tense_2 = tf.Variable(419, tf.int16)\n",
        "tense_3 = tf.Variable(3.417, tf.float32)\n",
        "\n",
        "# Rank 0 Tensors\n",
        "# tf.rank(tense_1)\n",
        "# tf.rank(tense_2)\n",
        "# tf.rank(tense_3)\n",
        "\n",
        "# More Tensors\n",
        "t4 = tf.Variable([34, 26, 98], tf.int16)\n",
        "t5 = tf.Variable([[\"Hello\", \"World\", \"hi\"], [\"me\", \"Love\", \"You\"]], tf.string)\n",
        "\n",
        "# Rank 1, 2 Tensors\n",
        "print(tf.rank(t4))\n",
        "print(t5.shape)\n",
        "# tf.rank(t5)\n"
      ],
      "metadata": {
        "colab": {
          "base_uri": "https://localhost:8080/"
        },
        "id": "3boph68RhaHc",
        "outputId": "26df83e5-f529-4f99-acd9-d409e40b1215"
      },
      "execution_count": 17,
      "outputs": [
        {
          "output_type": "stream",
          "name": "stdout",
          "text": [
            "<module 'tensorflow._api.v2.version' from '/usr/local/lib/python3.10/dist-packages/tensorflow/_api/v2/version/__init__.py'>\n",
            "tf.Tensor(1, shape=(), dtype=int32)\n",
            "(2, 3)\n"
          ]
        }
      ]
    },
    {
      "cell_type": "code",
      "source": [
        "# Changing of shapes\n",
        "\n",
        "t6 = tf.ones([2, 3, 3], tf.int32)\n",
        "t7 = tf.reshape(t6, [1, 6, 3])\n",
        "t8 = tf.reshape(t7, [3, -1])\n",
        "print(t6)\n",
        "print(t7)\n",
        "print(t8)"
      ],
      "metadata": {
        "colab": {
          "base_uri": "https://localhost:8080/"
        },
        "id": "51Exmfr8pVBm",
        "outputId": "40c8b2ea-7d87-42d7-f41a-f41bf79f1c23"
      },
      "execution_count": 50,
      "outputs": [
        {
          "output_type": "stream",
          "name": "stdout",
          "text": [
            "tf.Tensor(\n",
            "[[[1 1 1]\n",
            "  [1 1 1]\n",
            "  [1 1 1]]\n",
            "\n",
            " [[1 1 1]\n",
            "  [1 1 1]\n",
            "  [1 1 1]]], shape=(2, 3, 3), dtype=int32)\n",
            "tf.Tensor(\n",
            "[[[1 1 1]\n",
            "  [1 1 1]\n",
            "  [1 1 1]\n",
            "  [1 1 1]\n",
            "  [1 1 1]\n",
            "  [1 1 1]]], shape=(1, 6, 3), dtype=int32)\n",
            "tf.Tensor(\n",
            "[[1 1 1 1 1 1]\n",
            " [1 1 1 1 1 1]\n",
            " [1 1 1 1 1 1]], shape=(3, 6), dtype=int32)\n"
          ]
        }
      ]
    }
  ]
}