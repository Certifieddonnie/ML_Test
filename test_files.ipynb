{
  "nbformat": 4,
  "nbformat_minor": 0,
  "metadata": {
    "colab": {
      "provenance": [],
      "authorship_tag": "ABX9TyNEg+08iwKe2CD7eCKhCDE0",
      "include_colab_link": true
    },
    "kernelspec": {
      "name": "python3",
      "display_name": "Python 3"
    },
    "language_info": {
      "name": "python"
    }
  },
  "cells": [
    {
      "cell_type": "markdown",
      "metadata": {
        "id": "view-in-github",
        "colab_type": "text"
      },
      "source": [
        "<a href=\"https://colab.research.google.com/github/Certifieddonnie/ML_Test/blob/main/test_files.ipynb\" target=\"_parent\"><img src=\"https://colab.research.google.com/assets/colab-badge.svg\" alt=\"Open In Colab\"/></a>"
      ]
    },
    {
      "cell_type": "code",
      "execution_count": 51,
      "metadata": {
        "colab": {
          "base_uri": "https://localhost:8080/"
        },
        "id": "2c5y_TXjgkqx",
        "outputId": "40de74fd-0d57-4698-b9f9-ec4740c332bb"
      },
      "outputs": [
        {
          "output_type": "stream",
          "name": "stdout",
          "text": [
            "  Preparing metadata (setup.py) ... \u001b[?25l\u001b[?25hdone\n",
            "  Building wheel for sklearn (setup.py) ... \u001b[?25l\u001b[?25hdone\n",
            "Colab only includes TensorFlow 2.x; %tensorflow_version has no effect.\n"
          ]
        }
      ],
      "source": [
        "!pip install -q sklearn\n",
        "%tensorflow_version 2.x"
      ]
    },
    {
      "cell_type": "code",
      "source": [
        "from __future__ import absolute_import, division, print_function, unicode_literals\n",
        "\n",
        "import numpy as np\n",
        "import pandas as pd\n",
        "import matplotlib.pyplot as plt\n",
        "from IPython.display import clear_output\n",
        "from six.moves import urllib\n",
        "\n",
        "import tensorflow.compat.v2.feature_column as fc\n",
        "\n",
        "import tensorflow as tf\n",
        "# print(tf.version)\n",
        "\n",
        "# Creating Tensors\n",
        "tense_1 = tf.Variable(\"Hello World\", tf.string)\n",
        "tense_2 = tf.Variable(419, tf.int16)\n",
        "tense_3 = tf.Variable(3.417, tf.float32)\n",
        "\n",
        "# Rank 0 Tensors\n",
        "# tf.rank(tense_1)\n",
        "# tf.rank(tense_2)\n",
        "# tf.rank(tense_3)\n",
        "\n",
        "# More Tensors\n",
        "t4 = tf.Variable([34, 26, 98], tf.int16)\n",
        "t5 = tf.Variable([[\"Hello\", \"World\", \"hi\"], [\"me\", \"Love\", \"You\"]], tf.string)\n",
        "\n",
        "# Rank 1, 2 Tensors\n",
        "print(tf.rank(t4))\n",
        "print(t5.shape)\n",
        "# tf.rank(t5)\n"
      ],
      "metadata": {
        "colab": {
          "base_uri": "https://localhost:8080/"
        },
        "id": "3boph68RhaHc",
        "outputId": "781ddccf-a0fc-49e6-ecf7-c4de30588d20"
      },
      "execution_count": 54,
      "outputs": [
        {
          "output_type": "stream",
          "name": "stdout",
          "text": [
            "tf.Tensor(1, shape=(), dtype=int32)\n",
            "(2, 3)\n"
          ]
        }
      ]
    },
    {
      "cell_type": "code",
      "source": [
        "# Changing of shapes\n",
        "\n",
        "t6 = tf.ones([2, 3, 3], tf.int32)\n",
        "t7 = tf.reshape(t6, [1, 6, 3])\n",
        "t8 = tf.reshape(t7, [3, -1])\n",
        "print(t6)\n",
        "print(t7)\n",
        "print(t8)"
      ],
      "metadata": {
        "colab": {
          "base_uri": "https://localhost:8080/"
        },
        "id": "51Exmfr8pVBm",
        "outputId": "40c8b2ea-7d87-42d7-f41a-f41bf79f1c23"
      },
      "execution_count": 50,
      "outputs": [
        {
          "output_type": "stream",
          "name": "stdout",
          "text": [
            "tf.Tensor(\n",
            "[[[1 1 1]\n",
            "  [1 1 1]\n",
            "  [1 1 1]]\n",
            "\n",
            " [[1 1 1]\n",
            "  [1 1 1]\n",
            "  [1 1 1]]], shape=(2, 3, 3), dtype=int32)\n",
            "tf.Tensor(\n",
            "[[[1 1 1]\n",
            "  [1 1 1]\n",
            "  [1 1 1]\n",
            "  [1 1 1]\n",
            "  [1 1 1]\n",
            "  [1 1 1]]], shape=(1, 6, 3), dtype=int32)\n",
            "tf.Tensor(\n",
            "[[1 1 1 1 1 1]\n",
            " [1 1 1 1 1 1]\n",
            " [1 1 1 1 1 1]], shape=(3, 6), dtype=int32)\n"
          ]
        }
      ]
    },
    {
      "cell_type": "code",
      "source": [
        "# Load dataset.\n",
        "dftrain = pd.read_csv('https://storage.googleapis.com/tf-datasets/titanic/train.csv') # training data\n",
        "dfeval = pd.read_csv('https://storage.googleapis.com/tf-datasets/titanic/eval.csv') # testing data\n",
        "print(dftrain.head())\n",
        "y_train = dftrain.pop('survived')\n",
        "y_eval = dfeval.pop('survived')"
      ],
      "metadata": {
        "colab": {
          "base_uri": "https://localhost:8080/"
        },
        "id": "aRPcvSK-3s7y",
        "outputId": "d83df629-80eb-4b96-fb7c-caab8341f654"
      },
      "execution_count": 57,
      "outputs": [
        {
          "output_type": "stream",
          "name": "stdout",
          "text": [
            "   survived     sex   age  n_siblings_spouses  parch     fare  class     deck  \\\n",
            "0         0    male  22.0                   1      0   7.2500  Third  unknown   \n",
            "1         1  female  38.0                   1      0  71.2833  First        C   \n",
            "2         1  female  26.0                   0      0   7.9250  Third  unknown   \n",
            "3         1  female  35.0                   1      0  53.1000  First        C   \n",
            "4         0    male  28.0                   0      0   8.4583  Third  unknown   \n",
            "\n",
            "   embark_town alone  \n",
            "0  Southampton     n  \n",
            "1    Cherbourg     n  \n",
            "2  Southampton     y  \n",
            "3  Southampton     n  \n",
            "4   Queenstown     y  \n"
          ]
        }
      ]
    },
    {
      "cell_type": "code",
      "source": [
        "\n",
        "\n",
        "# Create a simple dataset with random addition problems and their solutions\n",
        "def create_dataset(num_samples):\n",
        "    X = np.random.randint(0, 100, size=(num_samples, 2))\n",
        "    y = np.sum(X, axis=1)\n",
        "    return X, y\n",
        "\n",
        "# Define the neural network architecture\n",
        "def build_model():\n",
        "    model = tf.keras.Sequential([\n",
        "        tf.keras.layers.Dense(64, activation='relu', input_shape=(2,)),\n",
        "        tf.keras.layers.Dense(32, activation='relu'),\n",
        "        tf.keras.layers.Dense(1)\n",
        "    ])\n",
        "    model.compile(optimizer='adam', loss='mse')\n",
        "    return model\n",
        "\n",
        "def main():\n",
        "    # Create the dataset\n",
        "    num_samples = 1000\n",
        "    X_train, y_train = create_dataset(num_samples)\n",
        "\n",
        "    # Build the model\n",
        "    model = build_model()\n",
        "\n",
        "    # Train the model\n",
        "    model.fit(X_train, y_train, epochs=50, batch_size=32)\n",
        "\n",
        "    # Test the model with some examples\n",
        "    X_test = np.array([[10, 20], [30, 40], [50, 60]])\n",
        "    predictions = model.predict(X_test)\n",
        "    print(\"Predictions:\", predictions)\n",
        "\n",
        "if __name__ == \"__main__\":\n",
        "    main()\n"
      ],
      "metadata": {
        "colab": {
          "base_uri": "https://localhost:8080/"
        },
        "id": "2IMVa_ef9jVw",
        "outputId": "130c917c-6f09-4d54-96f0-fd1172b3901a"
      },
      "execution_count": 58,
      "outputs": [
        {
          "output_type": "stream",
          "name": "stdout",
          "text": [
            "Epoch 1/50\n",
            "32/32 [==============================] - 1s 2ms/step - loss: 7553.7476\n",
            "Epoch 2/50\n",
            "32/32 [==============================] - 0s 2ms/step - loss: 1568.4471\n",
            "Epoch 3/50\n",
            "32/32 [==============================] - 0s 2ms/step - loss: 88.3512\n",
            "Epoch 4/50\n",
            "32/32 [==============================] - 0s 2ms/step - loss: 43.3576\n",
            "Epoch 5/50\n",
            "32/32 [==============================] - 0s 2ms/step - loss: 25.4247\n",
            "Epoch 6/50\n",
            "32/32 [==============================] - 0s 2ms/step - loss: 15.0303\n",
            "Epoch 7/50\n",
            "32/32 [==============================] - 0s 2ms/step - loss: 8.6464\n",
            "Epoch 8/50\n",
            "32/32 [==============================] - 0s 2ms/step - loss: 4.9252\n",
            "Epoch 9/50\n",
            "32/32 [==============================] - 0s 2ms/step - loss: 2.9999\n",
            "Epoch 10/50\n",
            "32/32 [==============================] - 0s 2ms/step - loss: 1.9312\n",
            "Epoch 11/50\n",
            "32/32 [==============================] - 0s 2ms/step - loss: 1.3865\n",
            "Epoch 12/50\n",
            "32/32 [==============================] - 0s 2ms/step - loss: 1.1130\n",
            "Epoch 13/50\n",
            "32/32 [==============================] - 0s 2ms/step - loss: 0.9558\n",
            "Epoch 14/50\n",
            "32/32 [==============================] - 0s 2ms/step - loss: 0.8400\n",
            "Epoch 15/50\n",
            "32/32 [==============================] - 0s 2ms/step - loss: 0.7602\n",
            "Epoch 16/50\n",
            "32/32 [==============================] - 0s 2ms/step - loss: 0.6896\n",
            "Epoch 17/50\n",
            "32/32 [==============================] - 0s 2ms/step - loss: 0.6403\n",
            "Epoch 18/50\n",
            "32/32 [==============================] - 0s 2ms/step - loss: 0.5907\n",
            "Epoch 19/50\n",
            "32/32 [==============================] - 0s 2ms/step - loss: 0.5518\n",
            "Epoch 20/50\n",
            "32/32 [==============================] - 0s 2ms/step - loss: 0.5096\n",
            "Epoch 21/50\n",
            "32/32 [==============================] - 0s 2ms/step - loss: 0.4749\n",
            "Epoch 22/50\n",
            "32/32 [==============================] - 0s 2ms/step - loss: 0.4441\n",
            "Epoch 23/50\n",
            "32/32 [==============================] - 0s 2ms/step - loss: 0.4189\n",
            "Epoch 24/50\n",
            "32/32 [==============================] - 0s 2ms/step - loss: 0.3957\n",
            "Epoch 25/50\n",
            "32/32 [==============================] - 0s 2ms/step - loss: 0.3722\n",
            "Epoch 26/50\n",
            "32/32 [==============================] - 0s 2ms/step - loss: 0.3552\n",
            "Epoch 27/50\n",
            "32/32 [==============================] - 0s 2ms/step - loss: 0.3321\n",
            "Epoch 28/50\n",
            "32/32 [==============================] - 0s 2ms/step - loss: 0.3133\n",
            "Epoch 29/50\n",
            "32/32 [==============================] - 0s 2ms/step - loss: 0.2968\n",
            "Epoch 30/50\n",
            "32/32 [==============================] - 0s 2ms/step - loss: 0.2809\n",
            "Epoch 31/50\n",
            "32/32 [==============================] - 0s 2ms/step - loss: 0.2700\n",
            "Epoch 32/50\n",
            "32/32 [==============================] - 0s 2ms/step - loss: 0.2559\n",
            "Epoch 33/50\n",
            "32/32 [==============================] - 0s 2ms/step - loss: 0.2447\n",
            "Epoch 34/50\n",
            "32/32 [==============================] - 0s 2ms/step - loss: 0.2314\n",
            "Epoch 35/50\n",
            "32/32 [==============================] - 0s 2ms/step - loss: 0.2205\n",
            "Epoch 36/50\n",
            "32/32 [==============================] - 0s 2ms/step - loss: 0.2111\n",
            "Epoch 37/50\n",
            "32/32 [==============================] - 0s 2ms/step - loss: 0.2021\n",
            "Epoch 38/50\n",
            "32/32 [==============================] - 0s 2ms/step - loss: 0.1951\n",
            "Epoch 39/50\n",
            "32/32 [==============================] - 0s 2ms/step - loss: 0.1862\n",
            "Epoch 40/50\n",
            "32/32 [==============================] - 0s 2ms/step - loss: 0.1775\n",
            "Epoch 41/50\n",
            "32/32 [==============================] - 0s 2ms/step - loss: 0.1725\n",
            "Epoch 42/50\n",
            "32/32 [==============================] - 0s 3ms/step - loss: 0.1647\n",
            "Epoch 43/50\n",
            "32/32 [==============================] - 0s 3ms/step - loss: 0.1578\n",
            "Epoch 44/50\n",
            "32/32 [==============================] - 0s 3ms/step - loss: 0.1545\n",
            "Epoch 45/50\n",
            "32/32 [==============================] - 0s 3ms/step - loss: 0.1526\n",
            "Epoch 46/50\n",
            "32/32 [==============================] - 0s 3ms/step - loss: 0.1471\n",
            "Epoch 47/50\n",
            "32/32 [==============================] - 0s 3ms/step - loss: 0.1392\n",
            "Epoch 48/50\n",
            "32/32 [==============================] - 0s 2ms/step - loss: 0.1335\n",
            "Epoch 49/50\n",
            "32/32 [==============================] - 0s 3ms/step - loss: 0.1293\n",
            "Epoch 50/50\n",
            "32/32 [==============================] - 0s 3ms/step - loss: 0.1265\n",
            "1/1 [==============================] - 0s 90ms/step\n",
            "Predictions: [[ 30.30181]\n",
            " [ 70.34236]\n",
            " [110.19342]]\n"
          ]
        }
      ]
    }
  ]
}